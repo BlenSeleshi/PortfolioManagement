{
 "cells": [
  {
   "cell_type": "markdown",
   "metadata": {},
   "source": [
    "# Portfolio Management and Forecasting with Enhanced Volatility Features\n",
    "\n",
    "## Introduction\n",
    "This notebook implements volatility-based feature engineering for forecasting and portfolio optimization.\n",
    "\n",
    "## 1. Data Fetching"
   ]
  },
  {
   "cell_type": "code",
   "execution_count": 1,
   "metadata": {},
   "outputs": [],
   "source": [
    "import logging\n",
    "import pandas as pd\n",
    "import sys, os\n",
    "import warnings\n",
    "warnings.filterwarnings('ignore')"
   ]
  },
  {
   "cell_type": "code",
   "execution_count": 2,
   "metadata": {},
   "outputs": [],
   "source": [
    "sys.path.append(os.path.abspath('../scripts'))"
   ]
  },
  {
   "cell_type": "code",
   "execution_count": 3,
   "metadata": {},
   "outputs": [],
   "source": [
    "from preprocess import load_data, preprocess_data, compute_volatility_index"
   ]
  },
  {
   "cell_type": "code",
   "execution_count": 4,
   "metadata": {},
   "outputs": [],
   "source": [
    "tsla, bnd, spy = load_data()"
   ]
  },
  {
   "cell_type": "code",
   "execution_count": 5,
   "metadata": {},
   "outputs": [],
   "source": [
    "tsla = tsla.drop('Price', axis=1)\n",
    "bnd = bnd.drop('Price', axis=1)\n",
    "spy = spy.drop('Price', axis=1)"
   ]
  },
  {
   "cell_type": "code",
   "execution_count": 6,
   "metadata": {},
   "outputs": [],
   "source": [
    "tsla = tsla.dropna()\n",
    "bnd = bnd.dropna()\n",
    "spy = spy.dropna()"
   ]
  },
  {
   "cell_type": "code",
   "execution_count": 7,
   "metadata": {},
   "outputs": [
    {
     "data": {
      "text/html": [
       "<div>\n",
       "<style scoped>\n",
       "    .dataframe tbody tr th:only-of-type {\n",
       "        vertical-align: middle;\n",
       "    }\n",
       "\n",
       "    .dataframe tbody tr th {\n",
       "        vertical-align: top;\n",
       "    }\n",
       "\n",
       "    .dataframe thead th {\n",
       "        text-align: right;\n",
       "    }\n",
       "</style>\n",
       "<table border=\"1\" class=\"dataframe\">\n",
       "  <thead>\n",
       "    <tr style=\"text-align: right;\">\n",
       "      <th></th>\n",
       "      <th>Adj Close</th>\n",
       "      <th>Close</th>\n",
       "      <th>High</th>\n",
       "      <th>Low</th>\n",
       "      <th>Open</th>\n",
       "      <th>Volume</th>\n",
       "    </tr>\n",
       "    <tr>\n",
       "      <th>Date</th>\n",
       "      <th></th>\n",
       "      <th></th>\n",
       "      <th></th>\n",
       "      <th></th>\n",
       "      <th></th>\n",
       "      <th></th>\n",
       "    </tr>\n",
       "  </thead>\n",
       "  <tbody>\n",
       "    <tr>\n",
       "      <th>2015-01-02 00:00:00+00:00</th>\n",
       "      <td>14.620667</td>\n",
       "      <td>14.620667</td>\n",
       "      <td>14.883333</td>\n",
       "      <td>14.217333</td>\n",
       "      <td>14.858000</td>\n",
       "      <td>71466000.0</td>\n",
       "    </tr>\n",
       "    <tr>\n",
       "      <th>2015-01-05 00:00:00+00:00</th>\n",
       "      <td>14.006000</td>\n",
       "      <td>14.006000</td>\n",
       "      <td>14.433333</td>\n",
       "      <td>13.810667</td>\n",
       "      <td>14.303333</td>\n",
       "      <td>80527500.0</td>\n",
       "    </tr>\n",
       "    <tr>\n",
       "      <th>2015-01-06 00:00:00+00:00</th>\n",
       "      <td>14.085333</td>\n",
       "      <td>14.085333</td>\n",
       "      <td>14.280000</td>\n",
       "      <td>13.614000</td>\n",
       "      <td>14.004000</td>\n",
       "      <td>93928500.0</td>\n",
       "    </tr>\n",
       "    <tr>\n",
       "      <th>2015-01-07 00:00:00+00:00</th>\n",
       "      <td>14.063333</td>\n",
       "      <td>14.063333</td>\n",
       "      <td>14.318667</td>\n",
       "      <td>13.985333</td>\n",
       "      <td>14.223333</td>\n",
       "      <td>44526000.0</td>\n",
       "    </tr>\n",
       "    <tr>\n",
       "      <th>2015-01-08 00:00:00+00:00</th>\n",
       "      <td>14.041333</td>\n",
       "      <td>14.041333</td>\n",
       "      <td>14.253333</td>\n",
       "      <td>14.000667</td>\n",
       "      <td>14.187333</td>\n",
       "      <td>51637500.0</td>\n",
       "    </tr>\n",
       "  </tbody>\n",
       "</table>\n",
       "</div>"
      ],
      "text/plain": [
       "                           Adj Close      Close       High        Low  \\\n",
       "Date                                                                    \n",
       "2015-01-02 00:00:00+00:00  14.620667  14.620667  14.883333  14.217333   \n",
       "2015-01-05 00:00:00+00:00  14.006000  14.006000  14.433333  13.810667   \n",
       "2015-01-06 00:00:00+00:00  14.085333  14.085333  14.280000  13.614000   \n",
       "2015-01-07 00:00:00+00:00  14.063333  14.063333  14.318667  13.985333   \n",
       "2015-01-08 00:00:00+00:00  14.041333  14.041333  14.253333  14.000667   \n",
       "\n",
       "                                Open      Volume  \n",
       "Date                                              \n",
       "2015-01-02 00:00:00+00:00  14.858000  71466000.0  \n",
       "2015-01-05 00:00:00+00:00  14.303333  80527500.0  \n",
       "2015-01-06 00:00:00+00:00  14.004000  93928500.0  \n",
       "2015-01-07 00:00:00+00:00  14.223333  44526000.0  \n",
       "2015-01-08 00:00:00+00:00  14.187333  51637500.0  "
      ]
     },
     "execution_count": 7,
     "metadata": {},
     "output_type": "execute_result"
    }
   ],
   "source": [
    "tsla.head()"
   ]
  },
  {
   "cell_type": "markdown",
   "metadata": {},
   "source": [
    "### 2.2 Preprocess each DataFrame"
   ]
  },
  {
   "cell_type": "code",
   "execution_count": 8,
   "metadata": {},
   "outputs": [],
   "source": [
    "tsla = preprocess_data(tsla)\n",
    "bnd = preprocess_data(bnd)\n",
    "spy = preprocess_data(spy)"
   ]
  },
  {
   "cell_type": "code",
   "execution_count": 9,
   "metadata": {},
   "outputs": [
    {
     "data": {
      "text/html": [
       "<div>\n",
       "<style scoped>\n",
       "    .dataframe tbody tr th:only-of-type {\n",
       "        vertical-align: middle;\n",
       "    }\n",
       "\n",
       "    .dataframe tbody tr th {\n",
       "        vertical-align: top;\n",
       "    }\n",
       "\n",
       "    .dataframe thead th {\n",
       "        text-align: right;\n",
       "    }\n",
       "</style>\n",
       "<table border=\"1\" class=\"dataframe\">\n",
       "  <thead>\n",
       "    <tr style=\"text-align: right;\">\n",
       "      <th></th>\n",
       "      <th>Adj Close</th>\n",
       "      <th>Close</th>\n",
       "      <th>High</th>\n",
       "      <th>Low</th>\n",
       "      <th>Open</th>\n",
       "      <th>Volume</th>\n",
       "      <th>Log Return</th>\n",
       "      <th>20-Day Volatility</th>\n",
       "      <th>50-Day Volatility</th>\n",
       "      <th>Bollinger Upper</th>\n",
       "      <th>Bollinger Lower</th>\n",
       "      <th>ATR</th>\n",
       "    </tr>\n",
       "    <tr>\n",
       "      <th>Date</th>\n",
       "      <th></th>\n",
       "      <th></th>\n",
       "      <th></th>\n",
       "      <th></th>\n",
       "      <th></th>\n",
       "      <th></th>\n",
       "      <th></th>\n",
       "      <th></th>\n",
       "      <th></th>\n",
       "      <th></th>\n",
       "      <th></th>\n",
       "      <th></th>\n",
       "    </tr>\n",
       "  </thead>\n",
       "  <tbody>\n",
       "    <tr>\n",
       "      <th>2015-03-17 00:00:00+00:00</th>\n",
       "      <td>12.982000</td>\n",
       "      <td>12.982000</td>\n",
       "      <td>13.247333</td>\n",
       "      <td>12.929333</td>\n",
       "      <td>13.028667</td>\n",
       "      <td>73411500.0</td>\n",
       "      <td>-0.004969</td>\n",
       "      <td>0.022355</td>\n",
       "      <td>0.022555</td>\n",
       "      <td>13.371310</td>\n",
       "      <td>13.281889</td>\n",
       "      <td>1.584667</td>\n",
       "    </tr>\n",
       "    <tr>\n",
       "      <th>2015-03-18 00:00:00+00:00</th>\n",
       "      <td>13.380667</td>\n",
       "      <td>13.380667</td>\n",
       "      <td>13.392000</td>\n",
       "      <td>12.874000</td>\n",
       "      <td>12.997333</td>\n",
       "      <td>72313500.0</td>\n",
       "      <td>0.030247</td>\n",
       "      <td>0.023518</td>\n",
       "      <td>0.022241</td>\n",
       "      <td>13.361137</td>\n",
       "      <td>13.267063</td>\n",
       "      <td>1.415333</td>\n",
       "    </tr>\n",
       "    <tr>\n",
       "      <th>2015-03-19 00:00:00+00:00</th>\n",
       "      <td>13.043333</td>\n",
       "      <td>13.043333</td>\n",
       "      <td>13.639333</td>\n",
       "      <td>12.968667</td>\n",
       "      <td>13.466667</td>\n",
       "      <td>127128000.0</td>\n",
       "      <td>-0.025534</td>\n",
       "      <td>0.022540</td>\n",
       "      <td>0.022489</td>\n",
       "      <td>13.305646</td>\n",
       "      <td>13.215487</td>\n",
       "      <td>1.258000</td>\n",
       "    </tr>\n",
       "    <tr>\n",
       "      <th>2015-03-20 00:00:00+00:00</th>\n",
       "      <td>13.205333</td>\n",
       "      <td>13.205333</td>\n",
       "      <td>13.266000</td>\n",
       "      <td>13.041333</td>\n",
       "      <td>13.163333</td>\n",
       "      <td>64042500.0</td>\n",
       "      <td>0.012344</td>\n",
       "      <td>0.021838</td>\n",
       "      <td>0.022574</td>\n",
       "      <td>13.240810</td>\n",
       "      <td>13.153457</td>\n",
       "      <td>1.258000</td>\n",
       "    </tr>\n",
       "    <tr>\n",
       "      <th>2015-03-23 00:00:00+00:00</th>\n",
       "      <td>13.308667</td>\n",
       "      <td>13.308667</td>\n",
       "      <td>13.366667</td>\n",
       "      <td>13.164667</td>\n",
       "      <td>13.233333</td>\n",
       "      <td>39474000.0</td>\n",
       "      <td>0.007795</td>\n",
       "      <td>0.019670</td>\n",
       "      <td>0.022610</td>\n",
       "      <td>13.210772</td>\n",
       "      <td>13.132094</td>\n",
       "      <td>1.258000</td>\n",
       "    </tr>\n",
       "  </tbody>\n",
       "</table>\n",
       "</div>"
      ],
      "text/plain": [
       "                           Adj Close      Close       High        Low  \\\n",
       "Date                                                                    \n",
       "2015-03-17 00:00:00+00:00  12.982000  12.982000  13.247333  12.929333   \n",
       "2015-03-18 00:00:00+00:00  13.380667  13.380667  13.392000  12.874000   \n",
       "2015-03-19 00:00:00+00:00  13.043333  13.043333  13.639333  12.968667   \n",
       "2015-03-20 00:00:00+00:00  13.205333  13.205333  13.266000  13.041333   \n",
       "2015-03-23 00:00:00+00:00  13.308667  13.308667  13.366667  13.164667   \n",
       "\n",
       "                                Open       Volume  Log Return  \\\n",
       "Date                                                            \n",
       "2015-03-17 00:00:00+00:00  13.028667   73411500.0   -0.004969   \n",
       "2015-03-18 00:00:00+00:00  12.997333   72313500.0    0.030247   \n",
       "2015-03-19 00:00:00+00:00  13.466667  127128000.0   -0.025534   \n",
       "2015-03-20 00:00:00+00:00  13.163333   64042500.0    0.012344   \n",
       "2015-03-23 00:00:00+00:00  13.233333   39474000.0    0.007795   \n",
       "\n",
       "                           20-Day Volatility  50-Day Volatility  \\\n",
       "Date                                                              \n",
       "2015-03-17 00:00:00+00:00           0.022355           0.022555   \n",
       "2015-03-18 00:00:00+00:00           0.023518           0.022241   \n",
       "2015-03-19 00:00:00+00:00           0.022540           0.022489   \n",
       "2015-03-20 00:00:00+00:00           0.021838           0.022574   \n",
       "2015-03-23 00:00:00+00:00           0.019670           0.022610   \n",
       "\n",
       "                           Bollinger Upper  Bollinger Lower       ATR  \n",
       "Date                                                                   \n",
       "2015-03-17 00:00:00+00:00        13.371310        13.281889  1.584667  \n",
       "2015-03-18 00:00:00+00:00        13.361137        13.267063  1.415333  \n",
       "2015-03-19 00:00:00+00:00        13.305646        13.215487  1.258000  \n",
       "2015-03-20 00:00:00+00:00        13.240810        13.153457  1.258000  \n",
       "2015-03-23 00:00:00+00:00        13.210772        13.132094  1.258000  "
      ]
     },
     "execution_count": 9,
     "metadata": {},
     "output_type": "execute_result"
    }
   ],
   "source": [
    "tsla.head()"
   ]
  },
  {
   "cell_type": "markdown",
   "metadata": {},
   "source": [
    "### 2.3. Calculate the Volatility Index across assets"
   ]
  },
  {
   "cell_type": "code",
   "execution_count": 10,
   "metadata": {},
   "outputs": [],
   "source": [
    "vol_index = compute_volatility_index(tsla, bnd, spy)"
   ]
  },
  {
   "cell_type": "code",
   "execution_count": 11,
   "metadata": {},
   "outputs": [
    {
     "data": {
      "text/html": [
       "<div>\n",
       "<style scoped>\n",
       "    .dataframe tbody tr th:only-of-type {\n",
       "        vertical-align: middle;\n",
       "    }\n",
       "\n",
       "    .dataframe tbody tr th {\n",
       "        vertical-align: top;\n",
       "    }\n",
       "\n",
       "    .dataframe thead th {\n",
       "        text-align: right;\n",
       "    }\n",
       "</style>\n",
       "<table border=\"1\" class=\"dataframe\">\n",
       "  <thead>\n",
       "    <tr style=\"text-align: right;\">\n",
       "      <th></th>\n",
       "      <th>Adj Close</th>\n",
       "      <th>Close</th>\n",
       "      <th>High</th>\n",
       "      <th>Low</th>\n",
       "      <th>Open</th>\n",
       "      <th>Volume</th>\n",
       "      <th>Log Return</th>\n",
       "      <th>20-Day Volatility</th>\n",
       "      <th>50-Day Volatility</th>\n",
       "      <th>Bollinger Upper</th>\n",
       "      <th>Bollinger Lower</th>\n",
       "      <th>ATR</th>\n",
       "    </tr>\n",
       "    <tr>\n",
       "      <th>Date</th>\n",
       "      <th></th>\n",
       "      <th></th>\n",
       "      <th></th>\n",
       "      <th></th>\n",
       "      <th></th>\n",
       "      <th></th>\n",
       "      <th></th>\n",
       "      <th></th>\n",
       "      <th></th>\n",
       "      <th></th>\n",
       "      <th></th>\n",
       "      <th></th>\n",
       "    </tr>\n",
       "  </thead>\n",
       "  <tbody>\n",
       "    <tr>\n",
       "      <th>2015-03-17 00:00:00+00:00</th>\n",
       "      <td>12.982000</td>\n",
       "      <td>12.982000</td>\n",
       "      <td>13.247333</td>\n",
       "      <td>12.929333</td>\n",
       "      <td>13.028667</td>\n",
       "      <td>73411500.0</td>\n",
       "      <td>-0.004969</td>\n",
       "      <td>0.022355</td>\n",
       "      <td>0.022555</td>\n",
       "      <td>13.371310</td>\n",
       "      <td>13.281889</td>\n",
       "      <td>1.584667</td>\n",
       "    </tr>\n",
       "    <tr>\n",
       "      <th>2015-03-18 00:00:00+00:00</th>\n",
       "      <td>13.380667</td>\n",
       "      <td>13.380667</td>\n",
       "      <td>13.392000</td>\n",
       "      <td>12.874000</td>\n",
       "      <td>12.997333</td>\n",
       "      <td>72313500.0</td>\n",
       "      <td>0.030247</td>\n",
       "      <td>0.023518</td>\n",
       "      <td>0.022241</td>\n",
       "      <td>13.361137</td>\n",
       "      <td>13.267063</td>\n",
       "      <td>1.415333</td>\n",
       "    </tr>\n",
       "    <tr>\n",
       "      <th>2015-03-19 00:00:00+00:00</th>\n",
       "      <td>13.043333</td>\n",
       "      <td>13.043333</td>\n",
       "      <td>13.639333</td>\n",
       "      <td>12.968667</td>\n",
       "      <td>13.466667</td>\n",
       "      <td>127128000.0</td>\n",
       "      <td>-0.025534</td>\n",
       "      <td>0.022540</td>\n",
       "      <td>0.022489</td>\n",
       "      <td>13.305646</td>\n",
       "      <td>13.215487</td>\n",
       "      <td>1.258000</td>\n",
       "    </tr>\n",
       "    <tr>\n",
       "      <th>2015-03-20 00:00:00+00:00</th>\n",
       "      <td>13.205333</td>\n",
       "      <td>13.205333</td>\n",
       "      <td>13.266000</td>\n",
       "      <td>13.041333</td>\n",
       "      <td>13.163333</td>\n",
       "      <td>64042500.0</td>\n",
       "      <td>0.012344</td>\n",
       "      <td>0.021838</td>\n",
       "      <td>0.022574</td>\n",
       "      <td>13.240810</td>\n",
       "      <td>13.153457</td>\n",
       "      <td>1.258000</td>\n",
       "    </tr>\n",
       "    <tr>\n",
       "      <th>2015-03-23 00:00:00+00:00</th>\n",
       "      <td>13.308667</td>\n",
       "      <td>13.308667</td>\n",
       "      <td>13.366667</td>\n",
       "      <td>13.164667</td>\n",
       "      <td>13.233333</td>\n",
       "      <td>39474000.0</td>\n",
       "      <td>0.007795</td>\n",
       "      <td>0.019670</td>\n",
       "      <td>0.022610</td>\n",
       "      <td>13.210772</td>\n",
       "      <td>13.132094</td>\n",
       "      <td>1.258000</td>\n",
       "    </tr>\n",
       "  </tbody>\n",
       "</table>\n",
       "</div>"
      ],
      "text/plain": [
       "                           Adj Close      Close       High        Low  \\\n",
       "Date                                                                    \n",
       "2015-03-17 00:00:00+00:00  12.982000  12.982000  13.247333  12.929333   \n",
       "2015-03-18 00:00:00+00:00  13.380667  13.380667  13.392000  12.874000   \n",
       "2015-03-19 00:00:00+00:00  13.043333  13.043333  13.639333  12.968667   \n",
       "2015-03-20 00:00:00+00:00  13.205333  13.205333  13.266000  13.041333   \n",
       "2015-03-23 00:00:00+00:00  13.308667  13.308667  13.366667  13.164667   \n",
       "\n",
       "                                Open       Volume  Log Return  \\\n",
       "Date                                                            \n",
       "2015-03-17 00:00:00+00:00  13.028667   73411500.0   -0.004969   \n",
       "2015-03-18 00:00:00+00:00  12.997333   72313500.0    0.030247   \n",
       "2015-03-19 00:00:00+00:00  13.466667  127128000.0   -0.025534   \n",
       "2015-03-20 00:00:00+00:00  13.163333   64042500.0    0.012344   \n",
       "2015-03-23 00:00:00+00:00  13.233333   39474000.0    0.007795   \n",
       "\n",
       "                           20-Day Volatility  50-Day Volatility  \\\n",
       "Date                                                              \n",
       "2015-03-17 00:00:00+00:00           0.022355           0.022555   \n",
       "2015-03-18 00:00:00+00:00           0.023518           0.022241   \n",
       "2015-03-19 00:00:00+00:00           0.022540           0.022489   \n",
       "2015-03-20 00:00:00+00:00           0.021838           0.022574   \n",
       "2015-03-23 00:00:00+00:00           0.019670           0.022610   \n",
       "\n",
       "                           Bollinger Upper  Bollinger Lower       ATR  \n",
       "Date                                                                   \n",
       "2015-03-17 00:00:00+00:00        13.371310        13.281889  1.584667  \n",
       "2015-03-18 00:00:00+00:00        13.361137        13.267063  1.415333  \n",
       "2015-03-19 00:00:00+00:00        13.305646        13.215487  1.258000  \n",
       "2015-03-20 00:00:00+00:00        13.240810        13.153457  1.258000  \n",
       "2015-03-23 00:00:00+00:00        13.210772        13.132094  1.258000  "
      ]
     },
     "execution_count": 11,
     "metadata": {},
     "output_type": "execute_result"
    }
   ],
   "source": [
    "tsla.head()"
   ]
  },
  {
   "cell_type": "markdown",
   "metadata": {},
   "source": [
    "## 2. Model Training and Forecasting with Volatility Features"
   ]
  },
  {
   "cell_type": "code",
   "execution_count": 12,
   "metadata": {},
   "outputs": [],
   "source": [
    "from modeling import train_arima, train_sarimax, train_lstm, evaluate_model\n",
    "from forecasting import generate_forecast, plot_forecast, plot_all_forecasts"
   ]
  },
  {
   "cell_type": "code",
   "execution_count": 13,
   "metadata": {},
   "outputs": [],
   "source": [
    "# Select Tesla's data for forecasting\n",
    "tsla_log_return = tsla['Log Return'].dropna()\n",
    "volatility_data = tsla[['20-Day Volatility', '50-Day Volatility', 'Bollinger Upper', 'Bollinger Lower', 'ATR']]"
   ]
  },
  {
   "cell_type": "code",
   "execution_count": 14,
   "metadata": {},
   "outputs": [
    {
     "name": "stderr",
     "output_type": "stream",
     "text": [
      "c:\\Users\\Blen\\OneDrive\\Desktop\\10Academy\\PortfolioManagement\\.venv\\Lib\\site-packages\\statsmodels\\tsa\\base\\tsa_model.py:473: ValueWarning: A date index has been provided, but it has no associated frequency information and so will be ignored when e.g. forecasting.\n",
      "  self._init_dates(dates, freq)\n",
      "c:\\Users\\Blen\\OneDrive\\Desktop\\10Academy\\PortfolioManagement\\.venv\\Lib\\site-packages\\statsmodels\\tsa\\base\\tsa_model.py:473: ValueWarning: A date index has been provided, but it has no associated frequency information and so will be ignored when e.g. forecasting.\n",
      "  self._init_dates(dates, freq)\n",
      "c:\\Users\\Blen\\OneDrive\\Desktop\\10Academy\\PortfolioManagement\\.venv\\Lib\\site-packages\\statsmodels\\tsa\\base\\tsa_model.py:473: ValueWarning: A date index has been provided, but it has no associated frequency information and so will be ignored when e.g. forecasting.\n",
      "  self._init_dates(dates, freq)\n",
      "c:\\Users\\Blen\\OneDrive\\Desktop\\10Academy\\PortfolioManagement\\.venv\\Lib\\site-packages\\statsmodels\\tsa\\base\\tsa_model.py:473: ValueWarning: A date index has been provided, but it has no associated frequency information and so will be ignored when e.g. forecasting.\n",
      "  self._init_dates(dates, freq)\n",
      "c:\\Users\\Blen\\OneDrive\\Desktop\\10Academy\\PortfolioManagement\\.venv\\Lib\\site-packages\\statsmodels\\tsa\\base\\tsa_model.py:473: ValueWarning: A date index has been provided, but it has no associated frequency information and so will be ignored when e.g. forecasting.\n",
      "  self._init_dates(dates, freq)\n"
     ]
    }
   ],
   "source": [
    "# Train models including SARIMAX with volatility data as exogenous\n",
    "arima_model = train_arima(tsla_log_return, order=(5, 1, 0))\n",
    "sarimax_model = train_sarimax(tsla_log_return, seasonal_order=(1, 1, 1, 12), exog=volatility_data)\n",
    "lstm_model = train_lstm(tsla_log_return, epochs=5)"
   ]
  },
  {
   "cell_type": "code",
   "execution_count": 15,
   "metadata": {},
   "outputs": [
    {
     "name": "stderr",
     "output_type": "stream",
     "text": [
      "c:\\Users\\Blen\\OneDrive\\Desktop\\10Academy\\PortfolioManagement\\.venv\\Lib\\site-packages\\statsmodels\\tsa\\base\\tsa_model.py:837: ValueWarning: No supported index is available. Prediction results will be given with an integer index beginning at `start`.\n",
      "  return get_prediction_index(\n",
      "c:\\Users\\Blen\\OneDrive\\Desktop\\10Academy\\PortfolioManagement\\.venv\\Lib\\site-packages\\statsmodels\\tsa\\base\\tsa_model.py:837: ValueWarning: No supported index is available. Prediction results will be given with an integer index beginning at `start`.\n",
      "  return get_prediction_index(\n"
     ]
    },
    {
     "name": "stdout",
     "output_type": "stream",
     "text": [
      "\u001b[1m4/4\u001b[0m \u001b[32m━━━━━━━━━━━━━━━━━━━━\u001b[0m\u001b[37m\u001b[0m \u001b[1m0s\u001b[0m 49ms/step\n"
     ]
    }
   ],
   "source": [
    "# Generate 6-month forecasts for each model\n",
    "import numpy as np\n",
    "# Generate 6-month forecasts for each model\n",
    "arima_forecast = generate_forecast(arima_model, steps=126)\n",
    "sarimax_forecast = generate_forecast(sarimax_model, steps=126, exog=volatility_data[-126:])\n",
    "lstm_forecast = lstm_model.predict(np.array(tsla_log_return[-126:]).reshape(-1, 1, 1))"
   ]
  },
  {
   "cell_type": "code",
   "execution_count": 16,
   "metadata": {},
   "outputs": [],
   "source": [
    "# Evaluate models using MAE, RMSE, and MAPE\n",
    "arima_mae, arima_rmse, arima_mape = evaluate_model(tsla_log_return[-126:], arima_forecast)\n",
    "sarimax_mae, sarimax_rmse, sarimax_mape = evaluate_model(tsla_log_return[-126:], sarimax_forecast)\n",
    "lstm_mae, lstm_rmse, lstm_mape = evaluate_model(tsla_log_return[-126:], lstm_forecast)"
   ]
  },
  {
   "cell_type": "code",
   "execution_count": 17,
   "metadata": {},
   "outputs": [
    {
     "name": "stdout",
     "output_type": "stream",
     "text": [
      "ARIMA Metrics: MAE: 0.02894836840092351 RMSE: 0.03963384598595796 MAPE: 2.9662084158423294\n",
      "SARIMAX Metrics: MAE: 0.03362194329741109 RMSE: 0.044834373038722536 MAPE: 4.420296692116887\n",
      "LSTM Metrics: MAE: 0.027513782310032202 RMSE: 0.03920716159010384 MAPE: 1.3391782123340883\n"
     ]
    }
   ],
   "source": [
    "# Print evaluation metrics\n",
    "print(\"ARIMA Metrics: MAE:\", arima_mae, \"RMSE:\", arima_rmse, \"MAPE:\", arima_mape)\n",
    "print(\"SARIMAX Metrics: MAE:\", sarimax_mae, \"RMSE:\", sarimax_rmse, \"MAPE:\", sarimax_mape)\n",
    "print(\"LSTM Metrics: MAE:\", lstm_mae, \"RMSE:\", lstm_rmse, \"MAPE:\", lstm_mape)"
   ]
  },
  {
   "cell_type": "code",
   "execution_count": 35,
   "metadata": {},
   "outputs": [
    {
     "data": {
      "image/png": "[encoded data removed]",
      "text/plain": [
       "<Figure size 1000x600 with 1 Axes>"
      ]
     },
     "metadata": {},
     "output_type": "display_data"
    },
    {
     "data": {
      "image/png": "[encoded data removed]",
      "text/plain": [
       "<Figure size 1000x600 with 1 Axes>"
      ]
     },
     "metadata": {},
     "output_type": "display_data"
    },
    {
     "ename": "AttributeError",
     "evalue": "'numpy.ndarray' object has no attribute 'index'",
     "output_type": "error",
     "traceback": [
      "\u001b[1;31m---------------------------------------------------------------------------\u001b[0m",
      "\u001b[1;31mAttributeError\u001b[0m                            Traceback (most recent call last)",
      "Cell \u001b[1;32mIn[35], line 4\u001b[0m\n\u001b[0;32m      2\u001b[0m plot_forecast(tsla_log_return, arima_forecast, \u001b[38;5;124m'\u001b[39m\u001b[38;5;124mARIMA\u001b[39m\u001b[38;5;124m'\u001b[39m)\n\u001b[0;32m      3\u001b[0m plot_forecast(tsla_log_return, sarimax_forecast, \u001b[38;5;124m'\u001b[39m\u001b[38;5;124mSARIMAX\u001b[39m\u001b[38;5;124m'\u001b[39m)\n\u001b[1;32m----> 4\u001b[0m \u001b[43mplot_forecast\u001b[49m\u001b[43m(\u001b[49m\u001b[43mtsla_log_return\u001b[49m\u001b[43m,\u001b[49m\u001b[43m \u001b[49m\u001b[43mlstm_forecast\u001b[49m\u001b[43m,\u001b[49m\u001b[43m \u001b[49m\u001b[38;5;124;43m'\u001b[39;49m\u001b[38;5;124;43mLSTM\u001b[39;49m\u001b[38;5;124;43m'\u001b[39;49m\u001b[43m)\u001b[49m\n\u001b[0;32m      5\u001b[0m plot_all_forecasts(tsla_log_return, arima_forecast, sarimax_forecast, lstm_forecast)\n",
      "File \u001b[1;32mc:\\Users\\Blen\\OneDrive\\Desktop\\10Academy\\PortfolioManagement\\scripts\\forecasting.py:13\u001b[0m, in \u001b[0;36mplot_forecast\u001b[1;34m(actual, forecast, model_name)\u001b[0m\n\u001b[0;32m     11\u001b[0m plt\u001b[38;5;241m.\u001b[39mfigure(figsize\u001b[38;5;241m=\u001b[39m(\u001b[38;5;241m10\u001b[39m,\u001b[38;5;241m6\u001b[39m))\n\u001b[0;32m     12\u001b[0m plt\u001b[38;5;241m.\u001b[39mplot(actual\u001b[38;5;241m.\u001b[39mindex, actual\u001b[38;5;241m.\u001b[39mvalues, label\u001b[38;5;241m=\u001b[39m\u001b[38;5;124m\"\u001b[39m\u001b[38;5;124mActual\u001b[39m\u001b[38;5;124m\"\u001b[39m, color\u001b[38;5;241m=\u001b[39m\u001b[38;5;124m'\u001b[39m\u001b[38;5;124mblue\u001b[39m\u001b[38;5;124m'\u001b[39m)\n\u001b[1;32m---> 13\u001b[0m plt\u001b[38;5;241m.\u001b[39mplot(\u001b[43mforecast\u001b[49m\u001b[38;5;241;43m.\u001b[39;49m\u001b[43mindex\u001b[49m, forecast\u001b[38;5;241m.\u001b[39mvalues, label\u001b[38;5;241m=\u001b[39m\u001b[38;5;124mf\u001b[39m\u001b[38;5;124m\"\u001b[39m\u001b[38;5;124mForecast (\u001b[39m\u001b[38;5;132;01m{\u001b[39;00mmodel_name\u001b[38;5;132;01m}\u001b[39;00m\u001b[38;5;124m)\u001b[39m\u001b[38;5;124m\"\u001b[39m, color\u001b[38;5;241m=\u001b[39m\u001b[38;5;124m'\u001b[39m\u001b[38;5;124mred\u001b[39m\u001b[38;5;124m'\u001b[39m)\n\u001b[0;32m     14\u001b[0m plt\u001b[38;5;241m.\u001b[39mtitle(\u001b[38;5;124mf\u001b[39m\u001b[38;5;124m'\u001b[39m\u001b[38;5;132;01m{\u001b[39;00mmodel_name\u001b[38;5;132;01m}\u001b[39;00m\u001b[38;5;124m Forecast vs Actual\u001b[39m\u001b[38;5;124m'\u001b[39m)\n\u001b[0;32m     15\u001b[0m plt\u001b[38;5;241m.\u001b[39mlegend()\n",
      "\u001b[1;31mAttributeError\u001b[0m: 'numpy.ndarray' object has no attribute 'index'"
     ]
    },
    {
     "data": {
      "image/png": "[encoded data removed]",
      "text/plain": [
       "<Figure size 1000x600 with 1 Axes>"
      ]
     },
     "metadata": {},
     "output_type": "display_data"
    }
   ],
   "source": [
    "# Plot all model forecasts\n",
    "plot_forecast(tsla_log_return, arima_forecast, 'ARIMA')\n",
    "plot_forecast(tsla_log_return, sarimax_forecast, 'SARIMAX')\n",
    "plot_forecast(tsla_log_return, lstm_forecast, 'LSTM')\n",
    "plot_all_forecasts(tsla_log_return, arima_forecast, sarimax_forecast, lstm_forecast)"
   ]
  },
  {
   "cell_type": "code",
   "execution_count": null,
   "metadata": {},
   "outputs": [],
   "source": [
    "from portfolio_optimization import optimize_portfolio, calculate_portfolio_metrics\n",
    "\n",
    "# Use closing prices for each asset\n",
    "close_prices = pd.DataFrame({\n",
    "    'TSLA': tsla['Adj Close'],\n",
    "    'BND': bnd['Adj Close'],\n",
    "    'SPY': spy['Adj Close']\n",
    "})\n",
    "returns = close_prices.pct_change().dropna()\n",
    "optimal_weights = optimize_portfolio(returns)\n"
   ]
  },
  {
   "cell_type": "code",
   "execution_count": null,
   "metadata": {},
   "outputs": [
    {
     "data": {
      "text/plain": [
       "array([0.14120163, 0.47297863, 0.38581974])"
      ]
     },
     "execution_count": 23,
     "metadata": {},
     "output_type": "execute_result"
    }
   ],
   "source": [
    "optimal_weights"
   ]
  },
  {
   "cell_type": "code",
   "execution_count": 19,
   "metadata": {},
   "outputs": [],
   "source": [
    "from portfolio_optimization import calculate_portfolio_metrics, optimize_portfolio"
   ]
  },
  {
   "cell_type": "code",
   "execution_count": 20,
   "metadata": {},
   "outputs": [],
   "source": [
    "# Extract only the 'Adj Close' price for each asset\n",
    "tsla_close = tsla['Adj Close']\n",
    "bnd_close = bnd['Adj Close']\n",
    "spy_close = spy['Adj Close']"
   ]
  },
  {
   "cell_type": "code",
   "execution_count": 21,
   "metadata": {},
   "outputs": [],
   "source": [
    "# Calculate daily returns for each asset\n",
    "tsla_returns = tsla_close.pct_change().dropna()\n",
    "bnd_returns = bnd_close.pct_change().dropna()\n",
    "spy_returns = spy_close.pct_change().dropna()"
   ]
  },
  {
   "cell_type": "code",
   "execution_count": 23,
   "metadata": {},
   "outputs": [],
   "source": [
    "# Combine all returns into a single DataFrame\n",
    "asset_returns = pd.concat([tsla_returns, bnd_returns, spy_returns], axis=1)\n",
    "asset_returns.columns = ['TSLA', 'BND', 'SPY']"
   ]
  },
  {
   "cell_type": "code",
   "execution_count": 24,
   "metadata": {},
   "outputs": [],
   "source": [
    "# Perform portfolio optimization to maximize the Sharpe ratio\n",
    "optimal_weights = optimize_portfolio(asset_returns)"
   ]
  },
  {
   "cell_type": "code",
   "execution_count": 25,
   "metadata": {},
   "outputs": [
    {
     "name": "stdout",
     "output_type": "stream",
     "text": [
      "Optimized Portfolio Weights:\n",
      "TSLA: 0.14, BND: 0.47, SPY: 0.39\n"
     ]
    }
   ],
   "source": [
    "# Print optimized portfolio weights\n",
    "print(\"Optimized Portfolio Weights:\")\n",
    "print(f\"TSLA: {optimal_weights[0]:.2f}, BND: {optimal_weights[1]:.2f}, SPY: {optimal_weights[2]:.2f}\")"
   ]
  },
  {
   "cell_type": "code",
   "execution_count": 26,
   "metadata": {},
   "outputs": [],
   "source": [
    "# Calculate portfolio metrics based on the optimized weights\n",
    "portfolio_return, portfolio_risk, portfolio_sharpe = calculate_portfolio_metrics(asset_returns, optimal_weights)"
   ]
  },
  {
   "cell_type": "code",
   "execution_count": 27,
   "metadata": {},
   "outputs": [
    {
     "name": "stdout",
     "output_type": "stream",
     "text": [
      "Portfolio Expected Return: 0.0005\n",
      "Portfolio Volatility (Risk): 0.0084\n",
      "Portfolio Sharpe Ratio: 0.0608\n"
     ]
    }
   ],
   "source": [
    "# Display portfolio metrics\n",
    "print(f\"Portfolio Expected Return: {portfolio_return:.4f}\")\n",
    "print(f\"Portfolio Volatility (Risk): {portfolio_risk:.4f}\")\n",
    "print(f\"Portfolio Sharpe Ratio: {portfolio_sharpe:.4f}\")\n"
   ]
  },
  {
   "cell_type": "code",
   "execution_count": 32,
   "metadata": {},
   "outputs": [
    {
     "data": {
      "image/png": "[encoded data removed]",
      "text/plain": [
       "<Figure size 800x600 with 1 Axes>"
      ]
     },
     "metadata": {},
     "output_type": "display_data"
    }
   ],
   "source": [
    "# Plot optimized portfolio allocation\n",
    "import matplotlib.pyplot as plt\n",
    "\n",
    "plt.figure(figsize=(8, 6))\n",
    "assets = ['TSLA', 'BND', 'SPY']\n",
    "plt.pie(optimal_weights, labels=assets, autopct='%1.1f%%', startangle=90)\n",
    "plt.title(\"Optimized Portfolio Allocation\")\n",
    "plt.show()"
   ]
  },
  {
   "cell_type": "code",
   "execution_count": null,
   "metadata": {},
   "outputs": [],
   "source": []
  }
 ],
 "metadata": {
  "kernelspec": {
   "display_name": ".venv",
   "language": "python",
   "name": "python3"
  },
  "language_info": {
   "codemirror_mode": {
    "name": "ipython",
    "version": 3
   },
   "file_extension": ".py",
   "mimetype": "text/x-python",
   "name": "python",
   "nbconvert_exporter": "python",
   "pygments_lexer": "ipython3",
   "version": "3.11.5"
  }
 },
 "nbformat": 4,
 "nbformat_minor": 2
}
